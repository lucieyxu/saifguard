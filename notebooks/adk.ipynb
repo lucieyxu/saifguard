{
 "cells": [
  {
   "cell_type": "markdown",
   "id": "08490b18",
   "metadata": {},
   "source": [
    "# Setup"
   ]
  },
  {
   "cell_type": "code",
   "execution_count": null,
   "id": "e8fb85e3",
   "metadata": {},
   "outputs": [],
   "source": [
    "!pip install google-adk"
   ]
  },
  {
   "cell_type": "code",
   "execution_count": 12,
   "id": "6f84da65",
   "metadata": {},
   "outputs": [],
   "source": [
    "from google.cloud import aiplatform\n",
    "from google import genai\n",
    "from google.genai import types\n",
    "from google.adk.agents import LlmAgent\n",
    "from vertexai.preview.reasoning_engines import AdkApp"
   ]
  },
  {
   "cell_type": "code",
   "execution_count": 2,
   "id": "b67ae746",
   "metadata": {},
   "outputs": [],
   "source": [
    "GOOGLE_CLOUD_PROJECT = \"luciexu\"\n",
    "GOOGLE_CLOUD_LOCATION = \"europe-west4\"\n",
    "MODEL = \"gemini-2.0-flash\"\n",
    "\n",
    "doc_uri = \"gs://luciexu-tmp/Capgemini- RFP MVP Solution TDD v2.pdf\""
   ]
  },
  {
   "cell_type": "code",
   "execution_count": 3,
   "id": "9a18cbd3",
   "metadata": {},
   "outputs": [],
   "source": [
    "aiplatform.init(project=GOOGLE_CLOUD_PROJECT, location=GOOGLE_CLOUD_LOCATION)"
   ]
  },
  {
   "cell_type": "markdown",
   "id": "070ec07f",
   "metadata": {},
   "source": [
    "# Tools"
   ]
  },
  {
   "cell_type": "code",
   "execution_count": 4,
   "id": "45ba26e3",
   "metadata": {},
   "outputs": [],
   "source": [
    "DISCOVERY_TOOL_SYSTEM_PROMPT = \"\"\"\n",
    "You are an AI assistant tasked with helping users. When answering, adhere to the following guildelines:\n",
    "**Accuracy:** Ensure your answers are factually correct and grounded in the documents provided as a list of uris.\n",
    "**Detail:** Provide comprehensive and informative answers, elaborating on key concepts and providing context. Be detailed and return an exhaustive answer.\n",
    "**Language:** Strictly identify the language of ther user query and always repond in the same language regardless of the document language.\n",
    "Now look at these documents and answer the user query. \n",
    "\"\"\"\n",
    "\n",
    "DISCOVERY_TOOL_QUERY_PROMPT = \"Inspect the file provided as a GCS uri and generate detailed recommendations to improve the overall security posture, with a focus on SAIF compliance.\"\n",
    "\n",
    "def analysis_tool(gcs_uri: str):\n",
    "    \"\"\"Analyze a document provided as a GCS uri.\n",
    "\n",
    "    Args:\n",
    "        gcs_uri (str): Document GCS uri\n",
    "    \"\"\"\n",
    "\n",
    "    contents = [\n",
    "        types.Part.from_text(text=DISCOVERY_TOOL_QUERY_PROMPT),\n",
    "        types.Part.from_uri(\n",
    "            file_uri=gcs_uri,\n",
    "            mime_type=\"application/pdf\",\n",
    "        )\n",
    "    ]\n",
    "\n",
    "    client = genai.Client(\n",
    "        vertexai=True, project=GOOGLE_CLOUD_PROJECT, location=GOOGLE_CLOUD_LOCATION,\n",
    "    )\n",
    "    response = client.models.generate_content(\n",
    "        model=MODEL,\n",
    "        contents=contents,\n",
    "        config=types.GenerateContentConfig(\n",
    "            system_instruction=DISCOVERY_TOOL_SYSTEM_PROMPT,\n",
    "            max_output_tokens=1000,\n",
    "            temperature=0.3,\n",
    "        ),\n",
    "    )\n",
    "    return response\n",
    "\n"
   ]
  },
  {
   "cell_type": "code",
   "execution_count": 5,
   "id": "de3ba298",
   "metadata": {},
   "outputs": [
    {
     "data": {
      "text/plain": [
       "GenerateContentResponse(\n",
       "  automatic_function_calling_history=[],\n",
       "  candidates=[\n",
       "    Candidate(\n",
       "      avg_logprobs=-0.1924254632020213,\n",
       "      content=Content(\n",
       "        parts=[\n",
       "          Part(\n",
       "            text=\"\"\"Basado en la información proporcionada en el documento, aquí hay recomendaciones detalladas para mejorar la postura general de seguridad, con un enfoque en el cumplimiento de SAIF:\n",
       "\n",
       "1.  **Data Access Management (DAM):**\n",
       "    *   **Implementar una estructura de carpetas común:** Establecer una estructura de carpetas consistente para mejorar la escalabilidad y el mantenimiento. La estructura actual se basa en la codificación rígida de rutas de archivos específicos, lo que dificulta la gestión.\n",
       "    *   **Automatizar la gestión de ACLs:** Alinear el enfoque de las Listas de Control de Acceso (ACLs) con las mejores prácticas acordadas por Datacloud para automatizar y escalar la gestión de permisos.\n",
       "    *   **Centralizar la gestión de metadatos:** Actualizar y mantener la información de los metadatos a través de un proceso gestionado por el negocio para asegurar la precisión y consistencia.\n",
       "    *   **Control de acceso granular:** Para el acceso restringido, como NDA, asegurar que cada RFP tenga su ID de oportunidad definido en los metadatos para crear un rol de acceso de usuario específico, y que contenga los usuarios que firmaron el NDA.\n",
       "    *   **Integrar con Organization Policy Service y VPC Service Controls:** Asegurar que todos los datos confidenciales dentro de la base de conocimiento permanezcan dentro del entorno del dominio de Capgemini, utilizando servicios como Organization Policy Service y/o VPC Service Controls.\n",
       "\n",
       "2.  **Data Loss Prevention (DLP) y Redacción:**\n",
       "    *   **Mejorar la redacción de PDFs:** Dado que DLP no soporta la redacción nativa de PDFs, convertir los PDFs a imágenes y usar OCR para hacerlos buscables. Asegurar que el idioma de los PDFs se pase correctamente para mejorar la precisión del OCR.\n",
       "    *   **Implementar DLP en la respuesta:** Considerar la redacción de información sensible en la respuesta utilizando Model Armor o la API de DLP, en lugar de solo en la fuente.\n",
       "    *   **Validación de datos:** Implementar la validación del conjunto de datos Golden como parte del CI/CD para asegurar la calidad de los datos.\n",
       "\n",
       "3.  **Logging y Monitoring:**\n",
       "    *   **Centralizar el logging:** Asegurar que todos los logs en el backend muestren el user\\_id y session\\_id en el siguiente formato: '[user:%(user\\_id)s] \\[session:%(session\\_id)s] %(asctime)s - %(name)s - %(levelname)s - %(message)s'.\n",
       "    *   **Monitorear el uso de tokens:** Registrar el uso de tokens de entrada, salida y totales en las herramientas.\n",
       "    *   **Registrar metadatos RAG:** Registrar los metadatos de Recuperación Aumentada Generativa (RAG), incluyendo document\\_ids, original\\_gcs\\_uris, page\\_numbers y relevancy\\_scores.\n",
       "    *   **Implementar paneles de control de Terraform:** Añadir el panel de control de Cloud Monitoring a los módulos de Terraform y actualizar las fuentes de datos de Looker.\n",
       "    *   **Integrar la canalización de validación offline con Vertex AI Experiments:** Integrar la canalización de validación offline con Vertex AI Experiments para un mejor seguimiento y gestión de los experimentos.\n",
       "\n",
       "4.  **CI/CD y Automatización:**\n",
       "    *   **Automatizar la creación de recursos:** Crear recursos específicos (buckets, dataset, etc.) para pruebas de integración.\n",
       "    *   **Implementar la validación del conjunto de datos Golden:** Implementar la validación del conjunto de datos Golden como parte del CI/CD.\n",
       "    *   **Escanear imágenes en busca de vulnerabilidades:** Implementar el escaneo de seguridad de las imágenes.\n",
       "    *   **Migrar a GitHub Actions:** Considerar la migración a GitHub Actions para una gestión más eficiente del flujo de trabajo.\n",
       "    *   **Automatizar la gestión de la configuración:** Añadir el panel de control de Cloud Monitoring a los módulos de Terraform (usando el dashboard json) con los servicios de logging para que estén en su lugar en cada proyecto de caso de uso.\n",
       "\n",
       "5.  **Autenticación y Autorización:**\n",
       "    *   **Rediseñar IAP:** Eliminar la necesidad de Cloud Identity rediseñando la implementación de IAP (Identity-Aware Proxy).\n",
       "    *   **Usar JWTs firmados:** Asegurar la aplicación con el IAP JWT, verificando la cabecera, la carga útil y la firma del JWT.\n",
       "\n",
       "6.  **Gestión de Sesiones:**\n",
       "    *   **Separar el esquema de sesión de Firestore:** Separar el esquema de sesión de Firestore en su propio paquete para evitar la\"\"\"\n",
       "          ),\n",
       "        ],\n",
       "        role='model'\n",
       "      ),\n",
       "      finish_reason=<FinishReason.MAX_TOKENS: 'MAX_TOKENS'>\n",
       "    ),\n",
       "  ],\n",
       "  create_time=datetime.datetime(2025, 8, 21, 10, 53, 58, 674164, tzinfo=TzInfo(UTC)),\n",
       "  model_version='gemini-2.0-flash',\n",
       "  response_id='xvqmaPSSKY-l7dcP-qTB6Ac',\n",
       "  sdk_http_response=HttpResponse(\n",
       "    headers=<dict len=9>\n",
       "  ),\n",
       "  usage_metadata=GenerateContentResponseUsageMetadata(\n",
       "    candidates_token_count=991,\n",
       "    candidates_tokens_details=[\n",
       "      ModalityTokenCount(\n",
       "        modality=<MediaModality.TEXT: 'TEXT'>,\n",
       "        token_count=991\n",
       "      ),\n",
       "    ],\n",
       "    prompt_token_count=16395,\n",
       "    prompt_tokens_details=[\n",
       "      ModalityTokenCount(\n",
       "        modality=<MediaModality.DOCUMENT: 'DOCUMENT'>,\n",
       "        token_count=16254\n",
       "      ),\n",
       "      ModalityTokenCount(\n",
       "        modality=<MediaModality.TEXT: 'TEXT'>,\n",
       "        token_count=141\n",
       "      ),\n",
       "    ],\n",
       "    total_token_count=17386,\n",
       "    traffic_type=<TrafficType.ON_DEMAND: 'ON_DEMAND'>\n",
       "  )\n",
       ")"
      ]
     },
     "execution_count": 5,
     "metadata": {},
     "output_type": "execute_result"
    }
   ],
   "source": [
    "analysis_tool(doc_uri)"
   ]
  },
  {
   "cell_type": "markdown",
   "id": "9b8bbcb3",
   "metadata": {},
   "source": [
    "# Agent"
   ]
  },
  {
   "cell_type": "code",
   "execution_count": 16,
   "id": "f7755e34",
   "metadata": {},
   "outputs": [],
   "source": [
    "# Model params\n",
    "model = MODEL\n",
    "\n",
    "safety_settings = [\n",
    "    types.SafetySetting(\n",
    "        category=types.HarmCategory.HARM_CATEGORY_DANGEROUS_CONTENT,\n",
    "        threshold=types.HarmBlockThreshold.OFF,\n",
    "    ),\n",
    "]\n",
    "\n",
    "generate_content_config = types.GenerateContentConfig(\n",
    "   safety_settings=safety_settings,\n",
    "   temperature=0.1,\n",
    "   max_output_tokens=1000,\n",
    "   top_p=0.95,\n",
    ")"
   ]
  },
  {
   "cell_type": "code",
   "execution_count": null,
   "id": "0ad0410a",
   "metadata": {},
   "outputs": [],
   "source": [
    "# Agent params\n",
    "agent = LlmAgent(\n",
    "   model=model,\n",
    "   name='SAIFGuard',\n",
    "   description=\"SAIFGuard is an agent that helps analyze security documents.\",\n",
    "   generate_content_config=generate_content_config, \n",
    "   tools=[analysis_tool] # Add other tools here\n",
    ")\n",
    "app = AdkApp(agent=agent)"
   ]
  },
  {
   "cell_type": "code",
   "execution_count": 11,
   "id": "93eb368d",
   "metadata": {},
   "outputs": [
    {
     "name": "stderr",
     "output_type": "stream",
     "text": [
      "Warning: there are non-text parts in the response: ['function_call'], returning concatenated text result from text parts. Check the full candidates.content.parts accessor to get the full model response.\n"
     ]
    },
    {
     "name": "stdout",
     "output_type": "stream",
     "text": [
      "{'content': {'parts': [{'function_call': {'id': 'adk-c7620318-addf-49c4-b4fa-e5e20508a0c5', 'args': {'gcs_uri': 'gs://luciexu-tmp/Capgemini- RFP MVP Solution TDD v2.pdf'}, 'name': 'analysis_tool'}}], 'role': 'model'}, 'finish_reason': <FinishReason.STOP: 'STOP'>, 'usage_metadata': {'candidates_token_count': 26, 'candidates_tokens_details': [{'modality': <MediaModality.TEXT: 'TEXT'>, 'token_count': 26}], 'prompt_token_count': 79, 'prompt_tokens_details': [{'modality': <MediaModality.TEXT: 'TEXT'>, 'token_count': 79}], 'total_token_count': 105, 'traffic_type': <TrafficType.ON_DEMAND: 'ON_DEMAND'>}, 'invocation_id': 'e-f43166ec-1a58-4193-b479-bacc816067eb', 'author': 'SAIFGuard', 'actions': {'state_delta': {}, 'artifact_delta': {}, 'requested_auth_configs': {}}, 'long_running_tool_ids': set(), 'id': '2ebd3c8b-777d-4876-8aa6-9debd062c2fd', 'timestamp': 1755775890.973001}\n",
      "{'content': {'parts': [{'function_response': {'id': 'adk-c7620318-addf-49c4-b4fa-e5e20508a0c5', 'name': 'analysis_tool', 'response': {'result': {'sdk_http_response': {'headers': {'content-type': 'application/json; charset=UTF-8', 'vary': 'Origin, X-Origin, Referer', 'content-encoding': 'gzip', 'date': 'Thu, 21 Aug 2025 11:31:46 GMT', 'server': 'scaffolding on HTTPServer2', 'x-xss-protection': '0', 'x-frame-options': 'SAMEORIGIN', 'x-content-type-options': 'nosniff', 'transfer-encoding': 'chunked'}}, 'candidates': [{'content': {'parts': [{'text': \"Okay, here are detailed recommendations to improve the overall security posture of the GenAI MVP solution, with a focus on SAIF (Security Architecture Implementation Framework) compliance, based on the provided Technical Design Document (TDD):\\n\\n**1. Data Access Management and Security:**\\n\\n*   **Scalable ACL Solution (SAIF Principle: Least Privilege):**\\n    *   The current ACL implementation relies on hard-coding folder paths in `config.py` and manual maintenance. This is not scalable or maintainable.\\n    *   **Recommendation:** Align the ACL approach with Datacloud's best practices. Conduct a workshop to design a scalable solution for ACLs, potentially leveraging structured data/metadata related to opportunities, SBUs, and BLs.\\n    *   **SAIF Benefit:** Ensures that users only have access to the data they need, reducing the risk of unauthorized access and data breaches.\\n*   **Common Folder Structure (SAIF Principle: Standardization):**\\n    *   The document mentions the lack of a common folder structure, leading to hardcoding of file paths.\\n    *   **Recommendation:** Implement a standardized folder structure for restricted documents in Google Cloud Storage. This will simplify ACL management and improve maintainability.\\n    *   **SAIF Benefit:** Simplifies security management and reduces the likelihood of configuration errors.\\n*   **Data Loss Prevention (DLP) Improvements (SAIF Principle: Data Protection):**\\n    *   The document mentions that DLP is currently performed at the source (during data ingestion).\\n    *   **Recommendation:** Evaluate the possibility of redacting sensitive information in the response using Model Armor or the DLP API. This provides an additional layer of protection and allows for more flexible data access control.\\n    *   **SAIF Benefit:** Protects sensitive data from unauthorized disclosure, even if it is inadvertently accessed.\\n*   **Database for Structured Data (SAIF Principle: Data Integrity):**\\n    *   The document suggests using a database for structured data in Excel files.\\n    *   **Recommendation:** Utilize fit-for-purpose databases like BigQuery for handling structured data. This will improve data integrity and enable more efficient querying and analysis.\\n    *   **SAIF Benefit:** Ensures that data is stored and processed in a secure and reliable manner.\\n*   **Data Residency (SAIF Principle: Compliance):**\\n    *   Ensure that data residency requirements are met by storing and processing data in the appropriate geographic locations.\\n    *   **Recommendation:** Review and configure Google Cloud Storage locations and Vertex AI processing GOOGLE_CLOUD_LOCATIONs to comply with data residency regulations.\\n\\n**2. Authentication and Authorization:**\\n\\n*   **IAP Redesign (SAIF Principle: Secure Access):**\\n    *   The initial IAP implementation used Google Groups synced with Cloud Identity, which was deemed inappropriate.\\n    *   **Recommendation:** Continue with the project-based OIDC integration between Identity Platform and Ping Federate IDP for authentication.\\n    *   **SAIF Benefit:** Provides a more secure and flexible authentication mechanism, leveraging an external Identity Provider.\\n*   **Signed JWT Verification (SAIF Principle: Authentication):**\\n    *   The document mentions verifying the header, payload, and signature of the JWT for IAP.\\n    *   **Recommendation:** Ensure that the JWT verification process is robust and secure to prevent unauthorized access.\\n    *   **SAIF Benefit:** Verifies the identity of the user and ensures that they are authorized to access the application.\\n*   **Service Account Permissions (SAIF Principle: Least Privilege):**\\n    *   The dedicated SA for Cloud Build jobs has a broad set of permissions.\\n    *   **Recommendation:** Review and reduce the permissions granted to the `build-genai@premi0620906-gitgbige.iam.gserviceaccount.com` service account. Grant only the minimum necessary permissions for the CI/CD pipeline to function.\\n    *   **SAIF Benefit:** Limits the potential impact of a compromised service account.\\n\\n**3. Logging and Monitoring:**\\n\\n*   **Comprehensive Logging (SAIF Principle: Auditability):**\\n    *   The document outlines updates to logging, including user ID, session ID, input/output tokens, and RAG metadata.\\n    *   **Recommendation:** Implement these logging updates to provide a comprehensive audit trail of user activity and system events.\\n    *   **SAIF Benefit:** Enables effective monitoring and incident response.\\n*   **Cloud Monitoring Dashboard (SAIF Principle: Monitoring):**\\n    *   A custom Cloud Monitoring dashboard has been built.\\n    *   **Recommendation:** Add the Cloud Monitoring dashboard to Terraform modules for consistent deployment across projects.\\n    *   **SAIF Benefit:** Provides real-time visibility into the health and performance of the system.\\n*   **Look\"}], 'role': 'model'}, 'finish_reason': <FinishReason.MAX_TOKENS: 'MAX_TOKENS'>, 'avg_logprobs': -0.15711620739391735}], 'create_time': datetime.datetime(2025, 8, 21, 11, 31, 33, 98155, tzinfo=TzInfo(UTC)), 'response_id': 'lQOnaOv-BfKX7dcPxZCMmAg', 'model_version': 'gemini-2.0-flash', 'usage_metadata': {'candidates_token_count': 999, 'candidates_tokens_details': [{'modality': <MediaModality.TEXT: 'TEXT'>, 'token_count': 999}], 'prompt_token_count': 16395, 'prompt_tokens_details': [{'modality': <MediaModality.TEXT: 'TEXT'>, 'token_count': 141}, {'modality': <MediaModality.DOCUMENT: 'DOCUMENT'>, 'token_count': 16254}], 'total_token_count': 17394, 'traffic_type': <TrafficType.ON_DEMAND: 'ON_DEMAND'>}, 'automatic_function_calling_history': []}}}}], 'role': 'user'}, 'invocation_id': 'e-f43166ec-1a58-4193-b479-bacc816067eb', 'author': 'SAIFGuard', 'actions': {'state_delta': {}, 'artifact_delta': {}, 'requested_auth_configs': {}}, 'id': '19ec6b3a-2962-4008-97e4-56d59b4812d0', 'timestamp': 1755775907.03756}\n",
      "{'content': {'parts': [{'text': \"Okay, I have analyzed the document. Here are the detailed recommendations to improve the overall security posture of the GenAI MVP solution, with a focus on SAIF (Security Architecture Implementation Framework) compliance, based on the provided Technical Design Document (TDD):\\n\\n**1. Data Access Management and Security:**\\n\\n*   **Scalable ACL Solution (SAIF Principle: Least Privilege):** The current ACL implementation relies on hard-coding folder paths in `config.py` and manual maintenance. This is not scalable or maintainable. Recommendation: Align the ACL approach with Datacloud's best practices. Conduct a workshop to design a scalable solution for ACLs, potentially leveraging structured data/metadata related to opportunities, SBUs, and BLs. SAIF Benefit: Ensures that users only have access to the data they need, reducing the risk of unauthorized access and data breaches.\\n*   **Common Folder Structure (SAIF Principle: Standardization):** The document mentions the lack of a common folder structure, leading to hardcoding of file paths. Recommendation: Implement a standardized folder structure for restricted documents in Google Cloud Storage. This will simplify ACL management and improve maintainability. SAIF Benefit: Simplifies security management and reduces the likelihood of configuration errors.\\n*   **Data Loss Prevention (DLP) Improvements (SAIF Principle: Data Protection):** The document mentions that DLP is currently performed at the source (during data ingestion). Recommendation: Evaluate the possibility of redacting sensitive information in the response using Model Armor or the DLP API. This provides an additional layer of protection and allows for more flexible data access control. SAIF Benefit: Protects sensitive data from unauthorized disclosure, even if it is inadvertently accessed.\\n*   **Database for Structured Data (SAIF Principle: Data Integrity):** The document suggests using a database for structured data in Excel files. Recommendation: Utilize fit-for-purpose databases like BigQuery for handling structured data. This will improve data integrity and enable more efficient querying and analysis. SAIF Benefit: Ensures that data is stored and processed in a secure and reliable manner.\\n*   **Data Residency (SAIF Principle: Compliance):** Ensure that data residency requirements are met by storing and processing data in the appropriate geographic locations. Recommendation: Review and configure Google Cloud Storage locations and Vertex AI processing GOOGLE_CLOUD_LOCATIONs to comply with data residency regulations.\\n\\n**2. Authentication and Authorization:**\\n\\n*   **IAP Redesign (SAIF Principle: Secure Access):** The initial IAP implementation used Google Groups synced with Cloud Identity, which was deemed inappropriate. Recommendation: Continue with the project-based OIDC integration between Identity Platform and Ping Federate IDP for authentication. SAIF Benefit: Provides a more secure and flexible authentication mechanism, leveraging an external Identity Provider.\\n*   **Signed JWT Verification (SAIF Principle: Authentication):** The document mentions verifying the header, payload, and signature of the JWT for IAP. Recommendation: Ensure that the JWT verification process is robust and secure to prevent unauthorized access. SAIF Benefit: Verifies the identity of the user and ensures that they are authorized to access the application.\\n*   **Service Account Permissions (SAIF Principle: Least Privilege):** The dedicated SA for Cloud Build jobs has a broad set of permissions. Recommendation: Review and reduce the permissions granted to the `build-genai@premi0620906-gitgbige.iam.gserviceaccount.com` service account. Grant only the minimum necessary permissions for the CI/CD pipeline to function. SAIF Benefit: Limits the potential impact of a compromised service account.\\n\\n**3. Logging and Monitoring:**\\n\\n*   **Comprehensive Logging (SAIF Principle: Auditability):** The document outlines updates to logging, including user ID, session ID, input/output tokens, and RAG metadata. Recommendation: Implement these logging updates to provide a comprehensive audit trail of user activity and system events. SAIF Benefit: Enables effective monitoring and incident response.\\n*   **Cloud Monitoring Dashboard (SAIF Principle: Monitoring):** A custom Cloud Monitoring dashboard has been built. Recommendation: Add the Cloud Monitoring dashboard to Terraform modules for consistent deployment across projects. SAIF Benefit: Provides real-time visibility into the health and performance of the system.\\n\"}], 'role': 'model'}, 'finish_reason': <FinishReason.STOP: 'STOP'>, 'usage_metadata': {'candidates_token_count': 867, 'candidates_tokens_details': [{'modality': <MediaModality.TEXT: 'TEXT'>, 'token_count': 867}], 'prompt_token_count': 1342, 'prompt_tokens_details': [{'modality': <MediaModality.TEXT: 'TEXT'>, 'token_count': 1342}], 'total_token_count': 2209, 'traffic_type': <TrafficType.ON_DEMAND: 'ON_DEMAND'>}, 'invocation_id': 'e-f43166ec-1a58-4193-b479-bacc816067eb', 'author': 'SAIFGuard', 'actions': {'state_delta': {}, 'artifact_delta': {}, 'requested_auth_configs': {}}, 'id': '8b3400a8-3885-4a81-9cee-66463984f751', 'timestamp': 1755775907.042776}\n"
     ]
    }
   ],
   "source": [
    "async for event in app.async_stream_query(\n",
    "    user_id=\"TEST_USER_ID\",\n",
    "    message=f\"Help me analyze my document at {doc_uri}\",\n",
    "):\n",
    "    print(event)"
   ]
  },
  {
   "cell_type": "code",
   "execution_count": 23,
   "id": "d49ee552",
   "metadata": {},
   "outputs": [
    {
     "data": {
      "text/plain": [
       "\"Okay, I have analyzed the document. Here are the detailed recommendations to improve the overall security posture of the GenAI MVP solution, with a focus on SAIF (Security Architecture Implementation Framework) compliance, based on the provided Technical Design Document (TDD):\\n\\n**1. Data Access Management and Security:**\\n\\n*   **Scalable ACL Solution (SAIF Principle: Least Privilege):** The current ACL implementation relies on hard-coding folder paths in `config.py` and manual maintenance. This is not scalable or maintainable. Recommendation: Align the ACL approach with Datacloud's best practices. Conduct a workshop to design a scalable solution for ACLs, potentially leveraging structured data/metadata related to opportunities, SBUs, and BLs. SAIF Benefit: Ensures that users only have access to the data they need, reducing the risk of unauthorized access and data breaches.\\n*   **Common Folder Structure (SAIF Principle: Standardization):** The document mentions the lack of a common folder structure, leading to hardcoding of file paths. Recommendation: Implement a standardized folder structure for restricted documents in Google Cloud Storage. This will simplify ACL management and improve maintainability. SAIF Benefit: Simplifies security management and reduces the likelihood of configuration errors.\\n*   **Data Loss Prevention (DLP) Improvements (SAIF Principle: Data Protection):** The document mentions that DLP is currently performed at the source (during data ingestion). Recommendation: Evaluate the possibility of redacting sensitive information in the response using Model Armor or the DLP API. This provides an additional layer of protection and allows for more flexible data access control. SAIF Benefit: Protects sensitive data from unauthorized disclosure, even if it is inadvertently accessed.\\n*   **Database for Structured Data (SAIF Principle: Data Integrity):** The document suggests using a database for structured data in Excel files. Recommendation: Utilize fit-for-purpose databases like BigQuery for handling structured data. This will improve data integrity and enable more efficient querying and analysis. SAIF Benefit: Ensures that data is stored and processed in a secure and reliable manner.\\n*   **Data Residency (SAIF Principle: Compliance):** Ensure that data residency requirements are met by storing and processing data in the appropriate geographic locations. Recommendation: Review and configure Google Cloud Storage locations and Vertex AI processing GOOGLE_CLOUD_LOCATIONs to comply with data residency regulations.\\n\\n**2. Authentication and Authorization:**\\n\\n*   **IAP Redesign (SAIF Principle: Secure Access):** The initial IAP implementation used Google Groups synced with Cloud Identity, which was deemed inappropriate. Recommendation: Continue with the project-based OIDC integration between Identity Platform and Ping Federate IDP for authentication. SAIF Benefit: Provides a more secure and flexible authentication mechanism, leveraging an external Identity Provider.\\n*   **Signed JWT Verification (SAIF Principle: Authentication):** The document mentions verifying the header, payload, and signature of the JWT for IAP. Recommendation: Ensure that the JWT verification process is robust and secure to prevent unauthorized access. SAIF Benefit: Verifies the identity of the user and ensures that they are authorized to access the application.\\n*   **Service Account Permissions (SAIF Principle: Least Privilege):** The dedicated SA for Cloud Build jobs has a broad set of permissions. Recommendation: Review and reduce the permissions granted to the `build-genai@premi0620906-gitgbige.iam.gserviceaccount.com` service account. Grant only the minimum necessary permissions for the CI/CD pipeline to function. SAIF Benefit: Limits the potential impact of a compromised service account.\\n\\n**3. Logging and Monitoring:**\\n\\n*   **Comprehensive Logging (SAIF Principle: Auditability):** The document outlines updates to logging, including user ID, session ID, input/output tokens, and RAG metadata. Recommendation: Implement these logging updates to provide a comprehensive audit trail of user activity and system events. SAIF Benefit: Enables effective monitoring and incident response.\\n*   **Cloud Monitoring Dashboard (SAIF Principle: Monitoring):** A custom Cloud Monitoring dashboard has been built. Recommendation: Add the Cloud Monitoring dashboard to Terraform modules for consistent deployment across projects. SAIF Benefit: Provides real-time visibility into the health and performance of the system.\\n\""
      ]
     },
     "execution_count": 23,
     "metadata": {},
     "output_type": "execute_result"
    }
   ],
   "source": [
    "\"/n\".join([part[\"text\"] for part in event[\"content\"][\"parts\"]])"
   ]
  },
  {
   "cell_type": "code",
   "execution_count": null,
   "id": "212996d0",
   "metadata": {},
   "outputs": [],
   "source": []
  }
 ],
 "metadata": {
  "kernelspec": {
   "display_name": "Python 3",
   "language": "python",
   "name": "python3"
  },
  "language_info": {
   "codemirror_mode": {
    "name": "ipython",
    "version": 3
   },
   "file_extension": ".py",
   "mimetype": "text/x-python",
   "name": "python",
   "nbconvert_exporter": "python",
   "pygments_lexer": "ipython3",
   "version": "3.12.3"
  }
 },
 "nbformat": 4,
 "nbformat_minor": 5
}
