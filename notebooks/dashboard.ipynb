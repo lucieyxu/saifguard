{
 "cells": [
  {
   "cell_type": "code",
   "execution_count": 53,
   "id": "3e864d87",
   "metadata": {},
   "outputs": [],
   "source": [
    "from google.cloud import aiplatform\n",
    "from google import genai\n",
    "from google.genai import types\n",
    "from google.adk.agents import LlmAgent\n",
    "from vertexai.preview.reasoning_engines import AdkApp\n",
    "import json\n",
    "\n",
    "from typing import List\n",
    "import pandas as pd"
   ]
  },
  {
   "cell_type": "code",
   "execution_count": 17,
   "id": "ef4a6308",
   "metadata": {},
   "outputs": [],
   "source": [
    "gcp_project_tool_response = \"\"\"\n",
    "Here\\'s a detailed security audit report for project `saifguard-gf-rrag-0` based on the SAIF framework, ordered by severity:\\n\\n### 🔴 Critical\\n\\n*   **Vulnerability:** Lack of Web Application Firewall (WAF) / DDoS Protection on External Load Balancer\\n    *   **Location:** `//compute.googleapis.com/projects/saifguard-gf-rrag-0/global/backendServices/gf-rrag-0-external-default`\\n    *   **Description:** The external HTTP(S) Load Balancer\\'s backend service (`gf-rrag-0-external-default`) does not have a Cloud Armor security policy attached. This directly violates the SAIF recommendation that \"Each GCP backend service MUST HAVE a security policy defined.\" Without a WAF, the application is highly vulnerable to DDoS attacks, SQL Injection, Cross-Site Scripting (XSS), and other OWASP Top 10 web application attacks.\\n    *   **Remediation:** Attach a Cloud Armor security policy to the `gf-rrag-0-external-default` backend service. Configure the policy with pre-configured rules for OWASP Top 10 vulnerabilities and adaptive protection for DDoS mitigation.\\n\\n*   **Vulnerability:** Disabled Backups for Cloud SQL Instance\\n    *   **Location:** `//cloudsql.googleapis.com/projects/saifguard-gf-rrag-0/instances/gf-rrag-0`\\n    *   **Description:** The Cloud SQL instance `gf-rrag-0` has automated backups disabled (`settings.backupConfiguration.enabled: false`). This poses a critical risk to data availability and integrity. In the event of data corruption, accidental deletion, or a ransomware attack, data recovery would be severely hampered or impossible, leading to significant downtime and potential data loss. This violates SAIF\\'s \"Availability Risks\" and \"Integrity Risks\" categories.\\n    *   **Remediation:** Enable automated backups for the `gf-rrag-0` Cloud SQL instance. Configure a suitable backup schedule and retention policy to meet the organization\\'s Recovery Point Objective (RPO) and Recovery Time Objective (RTO).\\n\\n*   **Vulnerability:** Cloud SQL Not Requiring SSL for Connections\\n    *   **Location:** `//cloudsql.googleapis.com/projects/saifguard-gf-rrag-0/instances/gf-rrag-0`\\n    *   **Description:** The Cloud SQL instance `gf-rrag-0` does not enforce SSL for database connections (`ipConfiguration.requireSsl: false`). While Private Service Connect (PSC) is used for private connectivity, not requiring SSL means that data in transit between the Cloud SQL Proxy and the database could potentially be intercepted or tampered with if the internal network is compromised. This is a Sensitive Data Exposure (A03) vulnerability.\\n    *   **Remediation:** Enable `requireSsl` for the `gf-rrag-0` Cloud SQL instance to ensure all connections are encrypted, providing defense in depth for data in transit.\\n\\n*   **Vulnerability:** Disabled Versioning on Critical Storage Buckets\\n    *   **Location:**\\n        *   `//storage.googleapis.com/tdd_movies_app` (`versioning: {}`)\\n        *   `//storage.googleapis.com/saifguard-gf-rrag-0-iac-state` (`versioning: false`)\\n    *   **Description:** Versioning is disabled for both the `tdd_movies_app` data bucket and the `saifguard-gf-rrag-0-iac-state` Infrastructure as Code (IaC) state bucket. This is a critical data integrity and recovery risk (A08 - Software and Data Integrity Failures). Without versioning, accidental deletion, malicious modification, or ransomware attacks could lead to irreversible data loss or compromise of the application\\'s infrastructure state.\\n    *   **Remediation:** Enable object versioning for both `tdd_movies_app` and `saifguard-gf-rrag-0-iac-state` buckets. Implement appropriate lifecycle policies to manage storage costs while retaining necessary historical versions.\\n\\n### 🟠 High\\n\\n*   **Vulnerability:** Broad Egress Permissions for Cloud Run Services/Jobs\\n    *   **Location:**\\n        *   `//run.googleapis.com/projects/saifguard-gf-rrag-0/locations/europe-west1/executions/gf-rrag-0-ingestion-49kfj` (and all other `gf-rrag-0-ingestion` executions)\\n        *   `//run.googleapis.com/projects/saifguard-gf-rrag-0/locations/europe-west1/services/gf-rrag-0-frontend`\\n    *   **Description:** The Cloud Run services and jobs are configured with `run.googleapis.com/vpc-access-egress: all-traffic`. This allows the containers to initiate connections to any external IP address. If a container is compromised (e.g., via a supply chain attack, injection flaw, or insecure deserialization), this broad egress permission could be exploited for data exfiltration, command and control (C2) communication, or launching further attacks. This is an Insecure Design (A04) and Security Misconfiguration (A05).\\n    *   **Remediation:** Restrict egress traffic from Cloud Run services and jobs to only necessary destinations. Utilize VPC Service Controls, Private Google Access, or more granular firewall rules within the VPC network to limit outbound connections.\\n\\n*   **Vulnerability:** Use of Generic/Placeholder Images in Production-like Cloud Run Deployments\\n    *   **Location:**\\n        *   `//run.googleapis.com/projects/saifguard-gf-rrag-0/locations/europe-west1/executions/gf-rrag-0-ingestion-49kfj` (and all other `gf-rrag-0-ingestion` executions, `ingestion` container image)\\n        *   `//run.googleapis.com/projects/saifguard-gf-rrag-0/locations/europe-west1/services/gf-rrag-0-frontend` (`frontend` container image)\\n    *   **Description:** Both the `gf-rrag-0-ingestion` job and the `gf-rrag-0-frontend` service are using the generic `us-docker.pkg.dev/cloudrun/container/hello` image. This \"hello world\" image is not intended for production applications. Deploying it in a production-like environment (especially the frontend, which is exposed via an external load balancer) is a significant Security Misconfiguration (A05). It suggests either a non-functional deployment or a placeholder that has not been replaced, making it impossible to assess the actual application\\'s security posture.\\n    *   **Remediation:** Replace the generic `us-docker.pkg.dev/cloudrun/container/hello` images with the actual, production-ready application images. Ensure that all deployed images are hardened, scanned for vulnerabilities, and built from trusted sources.\\n\\n### 🟡 Medium\\n\\n*   **Vulnerability:** Repeated Cloud Run Job Timeouts\\n    *   **Location:** Multiple `run.googleapis.com/Execution` resources for `gf-rrag-0-ingestion` job (e.g., `gf-rrag-0-ingestion-49kfj`, `gf-rrag-0-ingestion-g7p4d`, etc.)\\n    *   **Description:** Numerous executions of the `gf-rrag-0-ingestion` Cloud Run job are consistently failing with \"The configured timeout was reached\" messages. While primarily a functional issue, repeated timeouts can indicate underlying problems that could have security implications, such as resource exhaustion (SAIF - Resource Exhaustion/Denial of Service) or a process hanging due to unexpected or malicious input. It also leads to wasted compute resources.\\n    *   **Remediation:** Investigate the root cause of the persistent timeouts. This may involve reviewing application logs, optimizing the ingestion logic, or adjusting resource allocations (CPU/memory) and `timeoutSeconds` for the job. Ensure the application handles long-running operations gracefully.\\n\\n*   **Vulnerability:** Inherited Public Access Prevention for IaC State Bucket\\n    *   **Location:** `//storage.googleapis.com/saifguard-gf-rrag-0-iac-state` (`publicAccessPrevention: inherited`)\\n    *   **Description:** The IaC state bucket `saifguard-gf-rrag-0-iac-state` has `publicAccessPrevention` set to `inherited` instead of `enforced`. While `bucketPolicyOnly` and `uniformBucketLevelAccess` are enabled (which is good), relying on inherited settings for public access prevention for sensitive IaC state is a Security Misconfiguration (A05). It introduces a dependency on project-level settings, which might be inadvertently changed or less strict.\\n    *   **Remediation:** Explicitly set `publicAccessPrevention` to `enforced` for the `saifguard-gf-rrag-0-iac-state` bucket to ensure consistent and robust protection against public exposure.\\n\\n*   **Vulnerability:** Overly Permissive Default Compute Service Account\\n    *   **Location:** `//iam.googleapis.com/projects/saifguard-gf-rrag-0/serviceAccounts/74480264432-compute@developer.gserviceaccount.com`\\n    *   **Description:** The default Compute Engine service account is present and likely has broad default permissions (e.g., Editor role). While specific custom service accounts are also used, relying on or not restricting the default service account is a common Security Misconfiguration (A05) and can lead to Broken Access Control (A01). If a Compute Engine instance using this default account is compromised, the attacker could gain extensive control over the project.\\n    *   **Remediation:** Review the IAM policies for the default Compute Engine service account. Remove any overly permissive roles and grant only the minimum necessary permissions. For new resources, always prefer creating and assigning custom service accounts with fine-grained roles.\n",
    "\"\"\""
   ]
  },
  {
   "cell_type": "code",
   "execution_count": 18,
   "id": "24c45c6f",
   "metadata": {},
   "outputs": [],
   "source": [
    "PROJECT_ID = \"saifguard-gf-rrag-0\"\n",
    "REGION = \"europe-west4\"\n",
    "MODEL = \"gemini-2.5-flash-lite\"\n"
   ]
  },
  {
   "cell_type": "code",
   "execution_count": 60,
   "id": "61dae524",
   "metadata": {},
   "outputs": [],
   "source": [
    "SYSTEM_PROMPT = \"\"\"\n",
    "<OBJECTIVE>\n",
    "A list of vulnerability descriptions from a GCP project is given to you as text. \n",
    "You need to transform it into a dataframe to pass to BigQuery for dashboarding.\n",
    "You need to extract the google cloud console URL for each vulnerable resources to allow the user to click on it.\n",
    "</OBJECTIVE>\n",
    "\n",
    "<INSTRUCTIONS>\n",
    "Think step by step:\n",
    "1. Identify the vulnerable GCP resources.\n",
    "2. For each resource, extract the location given as a the name from asset inventory command and produce the GCP console URL. Extract the vulnerability name, description and remediation.\n",
    "</INSTRUCTIONS>\n",
    "\n",
    "<FEW_SHOT_EXAMPLES>\n",
    "# Example 1\n",
    "## Input\n",
    "**Vulnerabilities:** \n",
    "\\n\\n### 🔴 Critical\\n\\n* Lack of Web Application Firewall (WAF) / DDoS Protection on External Load Balancer\\n    *   **Location:** `//compute.googleapis.com/projects/[PROJECT_ID]/global/backendServices/[BACKEND SERVICE NAME]`\\n    *   **Description:** The external HTTP(S) Load Balancer\\'s backend service (`[BACKEND SERVICE NAME]`) does not have a Cloud Armor security policy attached    *   **Remediation:** Attach a Cloud Armor security policy\n",
    "\\n\\n### 🔴 Medium\\n\\n* Disabled Backups for Cloud SQL Instance\\n    *   **Location:** `//cloudsql.googleapis.com/projects/[PROJECT_ID]/instances/[CLOUD SQL INSTANCE NAME]`\\n    *   **Description:** The Cloud SQL instance `[CLOUD SQL INSTANCE NAME]` has automated backups disabled *   **Remediation:** Enable automated backups\n",
    "\n",
    "##Thoughts\n",
    "1. There are 2 vulnerabilities listed, the first on the external load balancer backend service, the second on Cloud SQL instance\n",
    "2. //compute.googleapis.com/projects/[PROJECT_ID]/global/backendServices/[BACKEND SERVICE NAME] is mapped to the console URL https://console.cloud.google.com/net-services/loadbalancing/backends/details/backendService/[BACKEND SERVICE NAME]?project=[PROJECT_ID]\n",
    "//cloudsql.googleapis.com/projects/[PROJECT_ID]/instances/[CLOUD SQL INSTANCE NAME] is mapped to the console URL https://console.cloud.google.com/sql/instances/[CLOUD SQL INSTANCE NAME]/overview?project=[PROJECT_ID]\n",
    "\n",
    "## Output\n",
    "[\n",
    "    {\n",
    "        severity: \"Critical\"\n",
    "        category: \"Load Balancer\"\n",
    "        name: \"Lack of Web Application Firewall (WAF) / DDoS Protection on External Load Balancer\"\n",
    "        description: \"The external HTTP(S) Load Balancer\\'s backend service (`[BACKEND SERVICE NAME]`) does not have a Cloud Armor security policy attached\"\n",
    "        remediation: \"Attach a Cloud Armor security policy\"\n",
    "        url: \"https://console.cloud.google.com/net-services/loadbalancing/backends/details/backendService/[BACKEND SERVICE NAME]?project=[PROJECT_ID]\"\n",
    "    },\n",
    "    {\n",
    "        severity: \"Medium\"\n",
    "        category: \"Cloud SQL\"\n",
    "        name: \"Disabled Backups for Cloud SQL Instance\"\n",
    "        description: \"The Cloud SQL instance `[CLOUD SQL INSTANCE NAME]` has automated backups disabled\"\n",
    "        remediation: \"Enable automated backups\"\n",
    "        url: \"https://console.cloud.google.com/sql/instances/[CLOUD SQL INSTANCE NAME]/overview?project=[PROJECT_ID]\"\n",
    "    }\n",
    "]\n",
    "</FEW_SHOT_EXAMPLES>\n",
    "\n",
    "\n",
    "<RECAP>\n",
    "* Keep the vulnerability name, description and remeidation as is, do not change the text\n",
    "* Convert the location into a GCP console URL\n",
    "</RECAP>\n",
    "\"\"\""
   ]
  },
  {
   "cell_type": "code",
   "execution_count": null,
   "id": "eb825aec",
   "metadata": {},
   "outputs": [],
   "source": [
    "from typing import List\n",
    "\n",
    "from pydantic import BaseModel\n",
    "\n",
    "\n",
    "class Vulnerability(BaseModel):\n",
    "    severity: str\n",
    "    category: str\n",
    "    name: str\n",
    "    description: str\n",
    "    remediation: str\n",
    "    url: str\n",
    "\n",
    "class VulnerabilityList(BaseModel):\n",
    "    vulnerabilities: List[Vulnerability]\n"
   ]
  },
  {
   "cell_type": "code",
   "execution_count": 62,
   "id": "e91636aa",
   "metadata": {},
   "outputs": [],
   "source": [
    "query = f\"\"\"\n",
    "# Vulnerabilities\n",
    "{gcp_project_tool_response}\n",
    "\"\"\"\n",
    "\n",
    "contents = [\n",
    "    types.Part.from_text(text=query),\n",
    "]\n",
    "\n",
    "client = genai.Client(\n",
    "    vertexai=True, project=PROJECT_ID, location=REGION,\n",
    ")\n",
    "response = client.models.generate_content(\n",
    "    model=MODEL,\n",
    "    contents=contents,\n",
    "    config=types.GenerateContentConfig(\n",
    "        system_instruction=SYSTEM_PROMPT,\n",
    "        temperature=0.1,\n",
    "        response_mime_type=\"application/json\",\n",
    "        response_schema=VulnerabilityList,\n",
    "    ),\n",
    ")"
   ]
  },
  {
   "cell_type": "code",
   "execution_count": 63,
   "id": "3c4d2bd6",
   "metadata": {},
   "outputs": [
    {
     "data": {
      "text/plain": [
       "'{\\n  \"vulnerabilities\": [\\n    {\\n      \"severity\": \"Critical\",\\n      \"category\": \"Load Balancer\",\\n      \"name\": \"Lack of Web Application Firewall (WAF) / DDoS Protection on External Load Balancer\",\\n      \"description\": \"The external HTTP(S) Load Balancer\\'s backend service (`gf-rrag-0-external-default`) does not have a Cloud Armor security policy attached. This directly violates the SAIF recommendation that \\\\\"Each GCP backend service MUST HAVE a security policy defined.\\\\\" Without a WAF, the application is highly vulnerable to DDoS attacks, SQL Injection, Cross-Site Scripting (XSS), and other OWASP Top 10 web application attacks.\",\\n      \"remediation\": \"Attach a Cloud Armor security policy to the `gf-rrag-0-external-default` backend service. Configure the policy with pre-configured rules for OWASP Top 10 vulnerabilities and adaptive protection for DDoS mitigation.\",\\n      \"url\": \"https://console.cloud.google.com/net-services/loadbalancing/backends/details/backendService/gf-rrag-0-external-default?project=saifguard-gf-rrag-0\"\\n    },\\n    {\\n      \"severity\": \"Critical\",\\n      \"category\": \"Cloud SQL\",\\n      \"name\": \"Disabled Backups for Cloud SQL Instance\",\\n      \"description\": \"The Cloud SQL instance `gf-rrag-0` has automated backups disabled (`settings.backupConfiguration.enabled: false`). This poses a critical risk to data availability and integrity. In the event of data corruption, accidental deletion, or a ransomware attack, data recovery would be severely hampered or impossible, leading to significant downtime and potential data loss. This violates SAIF\\'s \\\\\"Availability Risks\\\\\" and \\\\\"Integrity Risks\\\\\" categories.\",\\n      \"remediation\": \"Enable automated backups for the `gf-rrag-0` Cloud SQL instance. Configure a suitable backup schedule and retention policy to meet the organization\\'s Recovery Point Objective (RPO) and Recovery Time Objective (RTO).\",\\n      \"url\": \"https://console.cloud.google.com/sql/instances/gf-rrag-0/overview?project=saifguard-gf-rrag-0\"\\n    },\\n    {\\n      \"severity\": \"Critical\",\\n      \"category\": \"Cloud SQL\",\\n      \"name\": \"Cloud SQL Not Requiring SSL for Connections\",\\n      \"description\": \"The Cloud SQL instance `gf-rrag-0` does not enforce SSL for database connections (`ipConfiguration.requireSsl: false`). While Private Service Connect (PSC) is used for private connectivity, not requiring SSL means that data in transit between the Cloud SQL Proxy and the database could potentially be intercepted or tampered with if the internal network is compromised. This is a Sensitive Data Exposure (A03) vulnerability.\",\\n      \"remediation\": \"Enable `requireSsl` for the `gf-rrag-0` Cloud SQL instance to ensure all connections are encrypted, providing defense in depth for data in transit.\",\\n      \"url\": \"https://console.cloud.google.com/sql/instances/gf-rrag-0/overview?project=saifguard-gf-rrag-0\"\\n    },\\n    {\\n      \"severity\": \"Critical\",\\n      \"category\": \"Storage\",\\n      \"name\": \"Disabled Versioning on Critical Storage Buckets\",\\n      \"description\": \"Versioning is disabled for both the `tdd_movies_app` data bucket and the `saifguard-gf-rrag-0-iac-state` Infrastructure as Code (IaC) state bucket. This is a critical data integrity and recovery risk (A08 - Software and Data Integrity Failures). Without versioning, accidental deletion, malicious modification, or ransomware attacks could lead to irreversible data loss or compromise of the application\\'s infrastructure state.\",\\n      \"remediation\": \"Enable object versioning for both `tdd_movies_app` and `saifguard-gf-rrag-0-iac-state` buckets. Implement appropriate lifecycle policies to manage storage costs while retaining necessary historical versions.\",\\n      \"url\": \"https://console.cloud.google.com/storage/browser/tdd_movies_app?project=saifguard-gf-rrag-0\"\\n    },\\n    {\\n      \"severity\": \"Critical\",\\n      \"category\": \"Storage\",\\n      \"name\": \"Disabled Versioning on Critical Storage Buckets\",\\n      \"description\": \"Versioning is disabled for both the `tdd_movies_app` data bucket and the `saifguard-gf-rrag-0-iac-state` Infrastructure as Code (IaC) state bucket. This is a critical data integrity and recovery risk (A08 - Software and Data Integrity Failures). Without versioning, accidental deletion, malicious modification, or ransomware attacks could lead to irreversible data loss or compromise of the application\\'s infrastructure state.\",\\n      \"remediation\": \"Enable object versioning for both `tdd_movies_app` and `saifguard-gf-rrag-0-iac-state` buckets. Implement appropriate lifecycle policies to manage storage costs while retaining necessary historical versions.\",\\n      \"url\": \"https://console.cloud.google.com/storage/browser/saifguard-gf-rrag-0-iac-state?project=saifguard-gf-rrag-0\"\\n    },\\n    {\\n      \"severity\": \"High\",\\n      \"category\": \"Cloud Run\",\\n      \"name\": \"Broad Egress Permissions for Cloud Run Services/Jobs\",\\n      \"description\": \"The Cloud Run services and jobs are configured with `run.googleapis.com/vpc-access-egress: all-traffic`. This allows the containers to initiate connections to any external IP address. If a container is compromised (e.g., via a supply chain attack, injection flaw, or insecure deserialization), this broad egress permission could be exploited for data exfiltration, command and control (C2) communication, or launching further attacks. This is an Insecure Design (A04) and Security Misconfiguration (A05).\",\\n      \"remediation\": \"Restrict egress traffic from Cloud Run services and jobs to only necessary destinations. Utilize VPC Service Controls, Private Google Access, or more granular firewall rules within the VPC network to limit outbound connections.\",\\n      \"url\": \"https://console.cloud.google.com/run/executions/details/europe-west1/gf-rrag-0-ingestion-49kfj?project=saifguard-gf-rrag-0\"\\n    },\\n    {\\n      \"severity\": \"High\",\\n      \"category\": \"Cloud Run\",\\n      \"name\": \"Broad Egress Permissions for Cloud Run Services/Jobs\",\\n      \"description\": \"The Cloud Run services and jobs are configured with `run.googleapis.com/vpc-access-egress: all-traffic`. This allows the containers to initiate connections to any external IP address. If a container is compromised (e.g., via a supply chain attack, injection flaw, or insecure deserialization), this broad egress permission could be exploited for data exfiltration, command and control (C2) communication, or launching further attacks. This is an Insecure Design (A04) and Security Misconfiguration (A05).\",\\n      \"remediation\": \"Restrict egress traffic from Cloud Run services and jobs to only necessary destinations. Utilize VPC Service Controls, Private Google Access, or more granular firewall rules within the VPC network to limit outbound connections.\",\\n      \"url\": \"https://console.cloud.google.com/run/services/details/europe-west1/gf-rrag-0-frontend?project=saifguard-gf-rrag-0\"\\n    },\\n    {\\n      \"severity\": \"High\",\\n      \"category\": \"Cloud Run\",\\n      \"name\": \"Use of Generic/Placeholder Images in Production-like Cloud Run Deployments\",\\n      \"description\": \"Both the `gf-rrag-0-ingestion` job and the `gf-rrag-0-frontend` service are using the generic `us-docker.pkg.dev/cloudrun/container/hello` image. This \\\\\"hello world\\\\\" image is not intended for production applications. Deploying it in a production-like environment (especially the frontend, which is exposed via an external load balancer) is a significant Security Misconfiguration (A05). It suggests either a non-functional deployment or a placeholder that has not been replaced, making it impossible to assess the actual application\\'s security posture.\",\\n      \"remediation\": \"Replace the generic `us-docker.pkg.dev/cloudrun/container/hello` images with the actual, production-ready application images. Ensure that all deployed images are hardened, scanned for vulnerabilities, and built from trusted sources.\",\\n      \"url\": \"https://console.cloud.google.com/run/executions/details/europe-west1/gf-rrag-0-ingestion-49kfj?project=saifguard-gf-rrag-0\"\\n    },\\n    {\\n      \"severity\": \"High\",\\n      \"category\": \"Cloud Run\",\\n      \"name\": \"Use of Generic/Placeholder Images in Production-like Cloud Run Deployments\",\\n      \"description\": \"Both the `gf-rrag-0-ingestion` job and the `gf-rrag-0-frontend` service are using the generic `us-docker.pkg.dev/cloudrun/container/hello` image. This \\\\\"hello world\\\\\" image is not intended for production applications. Deploying it in a production-like environment (especially the frontend, which is exposed via an external load balancer) is a significant Security Misconfiguration (A05). It suggests either a non-functional deployment or a placeholder that has not been replaced, making it impossible to assess the actual application\\'s security posture.\",\\n      \"remediation\": \"Replace the generic `us-docker.pkg.dev/cloudrun/container/hello` images with the actual, production-ready application images. Ensure that all deployed images are hardened, scanned for vulnerabilities, and built from trusted sources.\",\\n      \"url\": \"https://console.cloud.google.com/run/services/details/europe-west1/gf-rrag-0-frontend?project=saifguard-gf-rrag-0\"\\n    },\\n    {\\n      \"severity\": \"Medium\",\\n      \"category\": \"Cloud Run\",\\n      \"name\": \"Repeated Cloud Run Job Timeouts\",\\n      \"description\": \"Numerous executions of the `gf-rrag-0-ingestion` Cloud Run job are consistently failing with \\\\\"The configured timeout was reached\\\\\" messages. While primarily a functional issue, repeated timeouts can indicate underlying problems that could have security implications, such as resource exhaustion (SAIF - Resource Exhaustion/Denial of Service) or a process hanging due to unexpected or malicious input. It also leads to wasted compute resources.\",\\n      \"remediation\": \"Investigate the root cause of the persistent timeouts. This may involve reviewing application logs, optimizing the ingestion logic, or adjusting resource allocations (CPU/memory) and `timeoutSeconds` for the job. Ensure the application handles long-running operations gracefully.\",\\n      \"url\": \"https://console.cloud.google.com/run/executions/details/europe-west1/gf-rrag-0-ingestion-49kfj?project=saifguard-gf-rrag-0\"\\n    },\\n    {\\n      \"severity\": \"Medium\",\\n      \"category\": \"Storage\",\\n      \"name\": \"Inherited Public Access Prevention for IaC State Bucket\",\\n      \"description\": \"The IaC state bucket `saifguard-gf-rrag-0-iac-state` has `publicAccessPrevention` set to `inherited` instead of `enforced`. While `bucketPolicyOnly` and `uniformBucketLevelAccess` are enabled (which is good), relying on inherited settings for public access prevention for sensitive IaC state is a Security Misconfiguration (A05). It introduces a dependency on project-level settings, which might be inadvertently changed or less strict.\",\\n      \"remediation\": \"Explicitly set `publicAccessPrevention` to `enforced` for the `saifguard-gf-rrag-0-iac-state` bucket to ensure consistent and robust protection against public exposure.\",\\n      \"url\": \"https://console.cloud.google.com/storage/browser/saifguard-gf-rrag-0-iac-state?project=saifguard-gf-rrag-0\"\\n    },\\n    {\\n      \"severity\": \"Medium\",\\n      \"category\": \"IAM\",\\n      \"name\": \"Overly Permissive Default Compute Service Account\",\\n      \"description\": \"The default Compute Engine service account is present and likely has broad default permissions (e.g., Editor role). While specific custom service accounts are also used, relying on or not restricting the default service account is a common Security Misconfiguration (A05) and can lead to Broken Access Control (A01). If a Compute Engine instance using this default account is compromised, the attacker could gain extensive control over the project.\",\\n      \"remediation\": \"Review the IAM policies for the default Compute Engine service account. Remove any overly permissive roles and grant only the minimum necessary permissions. For new resources, always prefer creating and assigning custom service accounts with fine-grained roles.\",\\n      \"url\": \"https://console.cloud.google.com/iam-admin/iam?project=saifguard-gf-rrag-0&serviceAccount=74480264432-compute@developer.gserviceaccount.com\"\\n    }\\n  ]\\n}'"
      ]
     },
     "execution_count": 63,
     "metadata": {},
     "output_type": "execute_result"
    }
   ],
   "source": [
    "response.text"
   ]
  },
  {
   "cell_type": "code",
   "execution_count": 64,
   "id": "d57f0023",
   "metadata": {},
   "outputs": [],
   "source": [
    "urls = json.loads(response.text)"
   ]
  },
  {
   "cell_type": "code",
   "execution_count": 65,
   "id": "43ef963a",
   "metadata": {},
   "outputs": [
    {
     "data": {
      "text/plain": [
       "{'vulnerabilities': [{'severity': 'Critical',\n",
       "   'category': 'Load Balancer',\n",
       "   'name': 'Lack of Web Application Firewall (WAF) / DDoS Protection on External Load Balancer',\n",
       "   'description': 'The external HTTP(S) Load Balancer\\'s backend service (`gf-rrag-0-external-default`) does not have a Cloud Armor security policy attached. This directly violates the SAIF recommendation that \"Each GCP backend service MUST HAVE a security policy defined.\" Without a WAF, the application is highly vulnerable to DDoS attacks, SQL Injection, Cross-Site Scripting (XSS), and other OWASP Top 10 web application attacks.',\n",
       "   'remediation': 'Attach a Cloud Armor security policy to the `gf-rrag-0-external-default` backend service. Configure the policy with pre-configured rules for OWASP Top 10 vulnerabilities and adaptive protection for DDoS mitigation.',\n",
       "   'url': 'https://console.cloud.google.com/net-services/loadbalancing/backends/details/backendService/gf-rrag-0-external-default?project=saifguard-gf-rrag-0'},\n",
       "  {'severity': 'Critical',\n",
       "   'category': 'Cloud SQL',\n",
       "   'name': 'Disabled Backups for Cloud SQL Instance',\n",
       "   'description': 'The Cloud SQL instance `gf-rrag-0` has automated backups disabled (`settings.backupConfiguration.enabled: false`). This poses a critical risk to data availability and integrity. In the event of data corruption, accidental deletion, or a ransomware attack, data recovery would be severely hampered or impossible, leading to significant downtime and potential data loss. This violates SAIF\\'s \"Availability Risks\" and \"Integrity Risks\" categories.',\n",
       "   'remediation': \"Enable automated backups for the `gf-rrag-0` Cloud SQL instance. Configure a suitable backup schedule and retention policy to meet the organization's Recovery Point Objective (RPO) and Recovery Time Objective (RTO).\",\n",
       "   'url': 'https://console.cloud.google.com/sql/instances/gf-rrag-0/overview?project=saifguard-gf-rrag-0'},\n",
       "  {'severity': 'Critical',\n",
       "   'category': 'Cloud SQL',\n",
       "   'name': 'Cloud SQL Not Requiring SSL for Connections',\n",
       "   'description': 'The Cloud SQL instance `gf-rrag-0` does not enforce SSL for database connections (`ipConfiguration.requireSsl: false`). While Private Service Connect (PSC) is used for private connectivity, not requiring SSL means that data in transit between the Cloud SQL Proxy and the database could potentially be intercepted or tampered with if the internal network is compromised. This is a Sensitive Data Exposure (A03) vulnerability.',\n",
       "   'remediation': 'Enable `requireSsl` for the `gf-rrag-0` Cloud SQL instance to ensure all connections are encrypted, providing defense in depth for data in transit.',\n",
       "   'url': 'https://console.cloud.google.com/sql/instances/gf-rrag-0/overview?project=saifguard-gf-rrag-0'},\n",
       "  {'severity': 'Critical',\n",
       "   'category': 'Storage',\n",
       "   'name': 'Disabled Versioning on Critical Storage Buckets',\n",
       "   'description': \"Versioning is disabled for both the `tdd_movies_app` data bucket and the `saifguard-gf-rrag-0-iac-state` Infrastructure as Code (IaC) state bucket. This is a critical data integrity and recovery risk (A08 - Software and Data Integrity Failures). Without versioning, accidental deletion, malicious modification, or ransomware attacks could lead to irreversible data loss or compromise of the application's infrastructure state.\",\n",
       "   'remediation': 'Enable object versioning for both `tdd_movies_app` and `saifguard-gf-rrag-0-iac-state` buckets. Implement appropriate lifecycle policies to manage storage costs while retaining necessary historical versions.',\n",
       "   'url': 'https://console.cloud.google.com/storage/browser/tdd_movies_app?project=saifguard-gf-rrag-0'},\n",
       "  {'severity': 'Critical',\n",
       "   'category': 'Storage',\n",
       "   'name': 'Disabled Versioning on Critical Storage Buckets',\n",
       "   'description': \"Versioning is disabled for both the `tdd_movies_app` data bucket and the `saifguard-gf-rrag-0-iac-state` Infrastructure as Code (IaC) state bucket. This is a critical data integrity and recovery risk (A08 - Software and Data Integrity Failures). Without versioning, accidental deletion, malicious modification, or ransomware attacks could lead to irreversible data loss or compromise of the application's infrastructure state.\",\n",
       "   'remediation': 'Enable object versioning for both `tdd_movies_app` and `saifguard-gf-rrag-0-iac-state` buckets. Implement appropriate lifecycle policies to manage storage costs while retaining necessary historical versions.',\n",
       "   'url': 'https://console.cloud.google.com/storage/browser/saifguard-gf-rrag-0-iac-state?project=saifguard-gf-rrag-0'},\n",
       "  {'severity': 'High',\n",
       "   'category': 'Cloud Run',\n",
       "   'name': 'Broad Egress Permissions for Cloud Run Services/Jobs',\n",
       "   'description': 'The Cloud Run services and jobs are configured with `run.googleapis.com/vpc-access-egress: all-traffic`. This allows the containers to initiate connections to any external IP address. If a container is compromised (e.g., via a supply chain attack, injection flaw, or insecure deserialization), this broad egress permission could be exploited for data exfiltration, command and control (C2) communication, or launching further attacks. This is an Insecure Design (A04) and Security Misconfiguration (A05).',\n",
       "   'remediation': 'Restrict egress traffic from Cloud Run services and jobs to only necessary destinations. Utilize VPC Service Controls, Private Google Access, or more granular firewall rules within the VPC network to limit outbound connections.',\n",
       "   'url': 'https://console.cloud.google.com/run/executions/details/europe-west1/gf-rrag-0-ingestion-49kfj?project=saifguard-gf-rrag-0'},\n",
       "  {'severity': 'High',\n",
       "   'category': 'Cloud Run',\n",
       "   'name': 'Broad Egress Permissions for Cloud Run Services/Jobs',\n",
       "   'description': 'The Cloud Run services and jobs are configured with `run.googleapis.com/vpc-access-egress: all-traffic`. This allows the containers to initiate connections to any external IP address. If a container is compromised (e.g., via a supply chain attack, injection flaw, or insecure deserialization), this broad egress permission could be exploited for data exfiltration, command and control (C2) communication, or launching further attacks. This is an Insecure Design (A04) and Security Misconfiguration (A05).',\n",
       "   'remediation': 'Restrict egress traffic from Cloud Run services and jobs to only necessary destinations. Utilize VPC Service Controls, Private Google Access, or more granular firewall rules within the VPC network to limit outbound connections.',\n",
       "   'url': 'https://console.cloud.google.com/run/services/details/europe-west1/gf-rrag-0-frontend?project=saifguard-gf-rrag-0'},\n",
       "  {'severity': 'High',\n",
       "   'category': 'Cloud Run',\n",
       "   'name': 'Use of Generic/Placeholder Images in Production-like Cloud Run Deployments',\n",
       "   'description': 'Both the `gf-rrag-0-ingestion` job and the `gf-rrag-0-frontend` service are using the generic `us-docker.pkg.dev/cloudrun/container/hello` image. This \"hello world\" image is not intended for production applications. Deploying it in a production-like environment (especially the frontend, which is exposed via an external load balancer) is a significant Security Misconfiguration (A05). It suggests either a non-functional deployment or a placeholder that has not been replaced, making it impossible to assess the actual application\\'s security posture.',\n",
       "   'remediation': 'Replace the generic `us-docker.pkg.dev/cloudrun/container/hello` images with the actual, production-ready application images. Ensure that all deployed images are hardened, scanned for vulnerabilities, and built from trusted sources.',\n",
       "   'url': 'https://console.cloud.google.com/run/executions/details/europe-west1/gf-rrag-0-ingestion-49kfj?project=saifguard-gf-rrag-0'},\n",
       "  {'severity': 'High',\n",
       "   'category': 'Cloud Run',\n",
       "   'name': 'Use of Generic/Placeholder Images in Production-like Cloud Run Deployments',\n",
       "   'description': 'Both the `gf-rrag-0-ingestion` job and the `gf-rrag-0-frontend` service are using the generic `us-docker.pkg.dev/cloudrun/container/hello` image. This \"hello world\" image is not intended for production applications. Deploying it in a production-like environment (especially the frontend, which is exposed via an external load balancer) is a significant Security Misconfiguration (A05). It suggests either a non-functional deployment or a placeholder that has not been replaced, making it impossible to assess the actual application\\'s security posture.',\n",
       "   'remediation': 'Replace the generic `us-docker.pkg.dev/cloudrun/container/hello` images with the actual, production-ready application images. Ensure that all deployed images are hardened, scanned for vulnerabilities, and built from trusted sources.',\n",
       "   'url': 'https://console.cloud.google.com/run/services/details/europe-west1/gf-rrag-0-frontend?project=saifguard-gf-rrag-0'},\n",
       "  {'severity': 'Medium',\n",
       "   'category': 'Cloud Run',\n",
       "   'name': 'Repeated Cloud Run Job Timeouts',\n",
       "   'description': 'Numerous executions of the `gf-rrag-0-ingestion` Cloud Run job are consistently failing with \"The configured timeout was reached\" messages. While primarily a functional issue, repeated timeouts can indicate underlying problems that could have security implications, such as resource exhaustion (SAIF - Resource Exhaustion/Denial of Service) or a process hanging due to unexpected or malicious input. It also leads to wasted compute resources.',\n",
       "   'remediation': 'Investigate the root cause of the persistent timeouts. This may involve reviewing application logs, optimizing the ingestion logic, or adjusting resource allocations (CPU/memory) and `timeoutSeconds` for the job. Ensure the application handles long-running operations gracefully.',\n",
       "   'url': 'https://console.cloud.google.com/run/executions/details/europe-west1/gf-rrag-0-ingestion-49kfj?project=saifguard-gf-rrag-0'},\n",
       "  {'severity': 'Medium',\n",
       "   'category': 'Storage',\n",
       "   'name': 'Inherited Public Access Prevention for IaC State Bucket',\n",
       "   'description': 'The IaC state bucket `saifguard-gf-rrag-0-iac-state` has `publicAccessPrevention` set to `inherited` instead of `enforced`. While `bucketPolicyOnly` and `uniformBucketLevelAccess` are enabled (which is good), relying on inherited settings for public access prevention for sensitive IaC state is a Security Misconfiguration (A05). It introduces a dependency on project-level settings, which might be inadvertently changed or less strict.',\n",
       "   'remediation': 'Explicitly set `publicAccessPrevention` to `enforced` for the `saifguard-gf-rrag-0-iac-state` bucket to ensure consistent and robust protection against public exposure.',\n",
       "   'url': 'https://console.cloud.google.com/storage/browser/saifguard-gf-rrag-0-iac-state?project=saifguard-gf-rrag-0'},\n",
       "  {'severity': 'Medium',\n",
       "   'category': 'IAM',\n",
       "   'name': 'Overly Permissive Default Compute Service Account',\n",
       "   'description': 'The default Compute Engine service account is present and likely has broad default permissions (e.g., Editor role). While specific custom service accounts are also used, relying on or not restricting the default service account is a common Security Misconfiguration (A05) and can lead to Broken Access Control (A01). If a Compute Engine instance using this default account is compromised, the attacker could gain extensive control over the project.',\n",
       "   'remediation': 'Review the IAM policies for the default Compute Engine service account. Remove any overly permissive roles and grant only the minimum necessary permissions. For new resources, always prefer creating and assigning custom service accounts with fine-grained roles.',\n",
       "   'url': 'https://console.cloud.google.com/iam-admin/iam?project=saifguard-gf-rrag-0&serviceAccount=74480264432-compute@developer.gserviceaccount.com'}]}"
      ]
     },
     "execution_count": 65,
     "metadata": {},
     "output_type": "execute_result"
    }
   ],
   "source": [
    "urls"
   ]
  },
  {
   "cell_type": "code",
   "execution_count": 66,
   "id": "b5325ec6",
   "metadata": {},
   "outputs": [],
   "source": [
    "table = pd.DataFrame(urls[\"vulnerabilities\"])\n",
    "table[\"project_id\"] = PROJECT_ID"
   ]
  },
  {
   "cell_type": "code",
   "execution_count": 67,
   "id": "451f833c",
   "metadata": {},
   "outputs": [
    {
     "name": "stderr",
     "output_type": "stream",
     "text": [
      "/tmp/ipykernel_2554/2435989935.py:1: FutureWarning: to_gbq is deprecated and will be removed in a future version. Please use pandas_gbq.to_gbq instead: https://pandas-gbq.readthedocs.io/en/latest/api.html#pandas_gbq.to_gbq\n",
      "  table.to_gbq(f\"saifguard.dashboard.vulnerabilities\", project_id=\"saifguard\", if_exists=\"replace\")\n"
     ]
    }
   ],
   "source": [
    "table.to_gbq(f\"saifguard.dashboard.vulnerabilities\", project_id=\"saifguard\", if_exists=\"replace\")"
   ]
  },
  {
   "cell_type": "code",
   "execution_count": null,
   "id": "4a850a38",
   "metadata": {},
   "outputs": [],
   "source": []
  }
 ],
 "metadata": {
  "kernelspec": {
   "display_name": "Python 3",
   "language": "python",
   "name": "python3"
  },
  "language_info": {
   "codemirror_mode": {
    "name": "ipython",
    "version": 3
   },
   "file_extension": ".py",
   "mimetype": "text/x-python",
   "name": "python",
   "nbconvert_exporter": "python",
   "pygments_lexer": "ipython3",
   "version": "3.12.3"
  }
 },
 "nbformat": 4,
 "nbformat_minor": 5
}
